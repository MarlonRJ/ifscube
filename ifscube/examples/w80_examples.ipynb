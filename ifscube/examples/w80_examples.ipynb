{
 "cells": [
  {
   "cell_type": "markdown",
   "metadata": {},
   "source": [
    "# Using IFSCube to evaluate $W_{80}$.\n",
    "\n",
    "The $W_{80}$ index is a measure of the velocity dispersion of a spectral feature that is not model dependent. It is defined as the width, in velocity space, that encompasses 80% of the flux of a given emission line.\n",
    "\n",
    "This notebook exemplifies how to measure $W_{80}$ using IFSCube's Cube.w80 method.\n",
    "\n",
    "We begin by importing the Cube class and loading a datacube."
   ]
  },
  {
   "cell_type": "code",
   "execution_count": 1,
   "metadata": {},
   "outputs": [],
   "source": [
    "from ifscube import Cube"
   ]
  },
  {
   "cell_type": "markdown",
   "metadata": {},
   "source": [
    "If you have already run the cube fitting example described in the documentation,\n",
    "you should have a file named \"ngc3081_cube_linefit.fits\" in the examples directory."
   ]
  },
  {
   "cell_type": "code",
   "execution_count": 2,
   "metadata": {},
   "outputs": [
    {
     "name": "stderr",
     "output_type": "stream",
     "text": [
      "WARNING: FITSFixedWarning: RADECSYS= 'FK5 ' / R.A./DEC. coordinate system reference \n",
      "the RADECSYS keyword is deprecated, use RADESYSa. [astropy.wcs.wcs]\n",
      "WARNING: FITSFixedWarning: 'datfix' made the change 'Changed '' to '2011-02-14T10:42:25.181''. [astropy.wcs.wcs]\n"
     ]
    }
   ],
   "source": [
    "mycube = Cube('ngc3081_cube.fits')\n",
    "mycube.loadfit('ngc3081_cube_linefit.fits')"
   ]
  },
  {
   "cell_type": "markdown",
   "metadata": {},
   "source": [
    "The next line is wherer $W_{80}$ is evaluated. The numer 1 in the parenthesis represents which spectral feature we wish to measure. This number begins at 0 and increases following the order of feature definitions in the configuration file. In this case this order is \\[N II\\] 6543, Ha and \\[N II\\] 6584."
   ]
  },
  {
   "cell_type": "code",
   "execution_count": 3,
   "metadata": {},
   "outputs": [],
   "source": [
    "w = mycube.w80(1)"
   ]
  },
  {
   "cell_type": "markdown",
   "metadata": {},
   "source": [
    "### Plotting the results\n",
    "\n",
    "Next we plot the $W_{80}$ we just measured. There are two results in the w variable. One is the directly measured $W_{80}$ and the other is the measure of the modeled profile."
   ]
  },
  {
   "cell_type": "code",
   "execution_count": 4,
   "metadata": {},
   "outputs": [
    {
     "data": {
      "image/png": "[encoded data removed]",
      "text/plain": [
       "<Figure size 432x288 with 2 Axes>"
      ]
     },
     "metadata": {
      "needs_background": "light"
     },
     "output_type": "display_data"
    }
   ],
   "source": [
    "import matplotlib.pyplot as plt\n",
    "\n",
    "fig, axes = plt.subplots(1, 2, sharey='row')\n",
    "titles = ['Model', 'Direct']\n",
    "\n",
    "for i, ax in enumerate(axes):\n",
    "    ax.set_title(titles[i])\n",
    "    ax.imshow(w[i], origin='lower')\n",
    "    ax.set_aspect('equal')\n",
    "\n",
    "plt.show()"
   ]
  }
 ],
 "metadata": {
  "kernelspec": {
   "display_name": "Python 3",
   "language": "python",
   "name": "python3"
  },
  "language_info": {
   "codemirror_mode": {
    "name": "ipython",
    "version": 3
   },
   "file_extension": ".py",
   "mimetype": "text/x-python",
   "name": "python",
   "nbconvert_exporter": "python",
   "pygments_lexer": "ipython3",
   "version": "3.6.8"
  }
 },
 "nbformat": 4,
 "nbformat_minor": 2
}

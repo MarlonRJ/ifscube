{
 "cells": [
  {
   "cell_type": "code",
   "execution_count": 5,
   "metadata": {},
   "outputs": [
    {
     "data": {
      "text/plain": [
       "<module 'ifscube.cubetools' from '/home/daniel/ifscube/ifscube/cubetools.py'>"
      ]
     },
     "execution_count": 5,
     "metadata": {},
     "output_type": "execute_result"
    }
   ],
   "source": [
    "import ifscube.cubetools as ct\n",
    "from importlib import reload\n",
    "import matplotlib.pyplot as plt\n",
    "reload(ct)"
   ]
  },
  {
   "cell_type": "code",
   "execution_count": 7,
   "metadata": {},
   "outputs": [
    {
     "name": "stdout",
     "output_type": "stream",
     "text": [
      "WARNING! Redshift not given and not found in the image header. Using redshift = 0.\n"
     ]
    },
    {
     "data": {
      "text/plain": [
       "array([[[ 161.55462646,  193.37815857,  168.87997437,  190.37652588,\n",
       "          199.71351624,  171.22987366],\n",
       "        [ 173.58830261,  230.58804321,  223.00117493,  223.45941162,\n",
       "          251.13157654,  167.65385437],\n",
       "        [ 181.41304016,  226.1209259 ,  251.68412781,  295.08587646,\n",
       "          270.29611206,  248.29408264],\n",
       "        [ 172.84230042,  207.72273254,  267.99688721,  241.4838562 ,\n",
       "          277.5725708 ,  199.62533569],\n",
       "        [ 198.68583679,  187.96913147,  246.41532898,  218.70147705,\n",
       "          216.05561829,  176.22143555],\n",
       "        [ 192.63128662,  201.12696838,  206.76663208,  245.08631897,\n",
       "          230.48899841,  182.51226807],\n",
       "        [ 141.84346008,  183.12281799,  238.62139893,  227.99382019,\n",
       "          216.57316589,  173.64123535],\n",
       "        [ 152.86875916,  169.10548401,  166.64904785,  189.7204895 ,\n",
       "          165.78814697,  158.21653748]],\n",
       "\n",
       "       [[ 161.93458557,  223.65272522,  217.57876587,  188.02076721,\n",
       "          249.65016174,  165.44126892],\n",
       "        [ 179.82225037,  257.89505005,  215.18908691,  214.28665161,\n",
       "          261.4647522 ,  169.55918884],\n",
       "        [ 207.01519775,  229.7880249 ,  258.04598999,  300.43737793,\n",
       "          267.44525146,  488.46054077],\n",
       "        [ 178.79989624,  210.81939697,  309.29837036,  251.94549561,\n",
       "          310.33358765,  240.72016907],\n",
       "        [ 205.38838196,  200.76501465,  290.41900635,  239.75605774,\n",
       "          240.46102905,  186.82806396],\n",
       "        [ 191.62838745,  206.82034302,  221.02467346,  247.09182739,\n",
       "          226.75424194,  181.83197021],\n",
       "        [ 141.44892883,  187.01135254,  274.64102173,  233.83390808,\n",
       "          219.43829346,  170.3618927 ],\n",
       "        [ 147.69300842,  174.29896545,  167.80322266,  222.09301758,\n",
       "          216.8809967 ,  151.48664856]]], dtype=float32)"
      ]
     },
     "execution_count": 7,
     "metadata": {},
     "output_type": "execute_result"
    }
   ],
   "source": [
    "reload(ct)\n",
    "a = ct.gmosdc('ngc3081_cube.fits')\n",
    "a.loadfit('ngc3081_fit.fits')\n",
    "\n",
    "a.w80(1)"
   ]
  },
  {
   "cell_type": "code",
   "execution_count": 23,
   "metadata": {},
   "outputs": [
    {
     "data": {
      "image/png": "[encoded data removed]",
      "text/plain": [
       "<matplotlib.figure.Figure at 0x7fbb16d53f98>"
      ]
     },
     "metadata": {},
     "output_type": "display_data"
    }
   ],
   "source": [
    "ax = plt.axes()\n",
    "ax.imshow(w[1], origin='lower')\n",
    "ax.set_aspect('equal')\n",
    "\n",
    "plt.show()"
   ]
  },
  {
   "cell_type": "code",
   "execution_count": null,
   "metadata": {
    "collapsed": true
   },
   "outputs": [],
   "source": []
  }
 ],
 "metadata": {
  "kernelspec": {
   "display_name": "Python 3",
   "language": "python",
   "name": "python3"
  },
  "language_info": {
   "codemirror_mode": {
    "name": "ipython",
    "version": 3
   },
   "file_extension": ".py",
   "mimetype": "text/x-python",
   "name": "python",
   "nbconvert_exporter": "python",
   "pygments_lexer": "ipython3",
   "version": "3.5.4"
  }
 },
 "nbformat": 4,
 "nbformat_minor": 2
}
